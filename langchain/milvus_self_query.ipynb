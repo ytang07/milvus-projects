{
 "cells": [
  {
   "cell_type": "code",
   "execution_count": 1,
   "metadata": {},
   "outputs": [
    {
     "data": {
      "text/plain": [
       "True"
      ]
     },
     "execution_count": 1,
     "metadata": {},
     "output_type": "execute_result"
    }
   ],
   "source": [
    "import os\n",
    "from dotenv import load_dotenv\n",
    "\n",
    "load_dotenv()"
   ]
  },
  {
   "cell_type": "code",
   "execution_count": 2,
   "metadata": {},
   "outputs": [],
   "source": [
    "import openai\n",
    "\n",
    "openai.api_key = os.getenv(\"OPENAI_API_KEY\")"
   ]
  },
  {
   "cell_type": "code",
   "execution_count": 3,
   "metadata": {},
   "outputs": [],
   "source": [
    "from langchain.schema import Document\n",
    "from langchain.embeddings.openai import OpenAIEmbeddings\n",
    "from langchain.vectorstores import Milvus\n",
    "\n",
    "embeddings = OpenAIEmbeddings()"
   ]
  },
  {
   "cell_type": "code",
   "execution_count": 4,
   "metadata": {},
   "outputs": [],
   "source": [
    "from milvus import default_server"
   ]
  },
  {
   "cell_type": "code",
   "execution_count": 8,
   "metadata": {},
   "outputs": [],
   "source": [
    "default_server.start()"
   ]
  },
  {
   "cell_type": "code",
   "execution_count": 9,
   "metadata": {},
   "outputs": [],
   "source": [
    "docs = [\n",
    "    # jurassic park\n",
    "    Document(page_content=\"A bunch of scientists bring back dinosaurs and mayhem breaks loose\", \n",
    "             metadata={\"year\": 1993, \"rating\": 7.7, \"genre\": \"action\"}),\n",
    "    # toy story\n",
    "    Document(page_content=\"Toys come alive and have a blast doing so\",\n",
    "             metadata={\"year\": 1995, \"genre\": \"animated\", \"rating\": 9.3 }),\n",
    "    # finding nemo\n",
    "    Document(page_content=\"A dad teams up with a disabled partner to break into a dentist\\'s office to save his son.\",\n",
    "             metadata={\"year\": 2003, \"genre\": \"animated\", \"rating\": 8.2 }),\n",
    "    # unbearable weight of massive talent\n",
    "    Document(page_content=\"Nicholas Cage plays Nicholas Cage in this movie about Nicholas Cage.\",\n",
    "             metadata={\"year\": 2022, \"genre\": \"comedy\", \"rating\": 7.0 }),\n",
    "    # lord of war\n",
    "    Document(page_content=\"Nicholas Cage sells guns until he has enough money to marry his favorite model. Then he sells more guns.\",\n",
    "             metadata={\"year\": 2005, \"genre\": \"comedy\", \"rating\": 7.6 }),\n",
    "    # ghost rider\n",
    "    Document(page_content=\"Nicholas Cage loses his skin and sets his skull on fire. Then he rides a motorcycle.\",\n",
    "             metadata={\"year\": 2007, \"genre\": \"action\", \"rating\": 5.3 }),\n",
    "]\n",
    "\n",
    "vector_store = Milvus.from_documents(\n",
    "    docs,\n",
    "    embedding=embeddings,\n",
    "    connection_args={\"host\": \"localhost\", \"port\": default_server.listen_port},\n",
    "    collection_name=\"movies\"\n",
    ")"
   ]
  },
  {
   "cell_type": "code",
   "execution_count": 10,
   "metadata": {},
   "outputs": [],
   "source": [
    "from langchain.llms import OpenAI\n",
    "from langchain.retrievers.self_query.base import SelfQueryRetriever\n",
    "from langchain.chains.query_constructor.base import AttributeInfo\n",
    "\n",
    "metadata_field_info = [\n",
    "    AttributeInfo(\n",
    "        name=\"genre\",\n",
    "        description=\"The genre of the movie\",\n",
    "        type=\"string\",\n",
    "    ),\n",
    "    AttributeInfo(\n",
    "        name=\"year\",\n",
    "        description=\"The year the movie was released\",\n",
    "        type=\"integer\",\n",
    "    ),\n",
    "    AttributeInfo(\n",
    "        name=\"rating\", description=\"A 1-10 rating for the movie\", type=\"float\"\n",
    "    ),\n",
    "]\n",
    "document_content_description = \"Brief summary of a movie\"\n",
    "llm = OpenAI(temperature=0)\n",
    "retriever = SelfQueryRetriever.from_llm(\n",
    "    llm, vector_store, document_content_description, metadata_field_info, verbose=True\n",
    ")"
   ]
  },
  {
   "cell_type": "code",
   "execution_count": 11,
   "metadata": {},
   "outputs": [
    {
     "name": "stderr",
     "output_type": "stream",
     "text": [
      "/Users/yujiantang/Documents/workspace/hello_world_project/hw_milvus/lib/python3.10/site-packages/langchain/chains/llm.py:280: UserWarning: The predict_and_parse method is deprecated, instead pass an output parser directly to LLMChain.\n",
      "  warnings.warn(\n"
     ]
    },
    {
     "name": "stdout",
     "output_type": "stream",
     "text": [
      "query='Nicholas Cage' filter=None limit=None\n"
     ]
    },
    {
     "data": {
      "text/plain": [
       "[Document(page_content='Nicholas Cage plays Nicholas Cage in this movie about Nicholas Cage.', metadata={'year': 2022, 'rating': 7.0, 'genre': 'comedy'}),\n",
       " Document(page_content='Nicholas Cage loses his skin and sets his skull on fire. Then he rides a motorcycle.', metadata={'year': 1995, 'rating': 5.3, 'genre': 'action'}),\n",
       " Document(page_content='Nicholas Cage sells guns until he has enough money to marry his favorite model. Then he sells more guns.', metadata={'year': 2005, 'rating': 7.6, 'genre': 'comedy'}),\n",
       " Document(page_content=\"A dad teams up with a mentally disabled partner to break into a dentist's office to save his son.\", metadata={'year': 2003, 'rating': 8.2, 'genre': 'animated'})]"
      ]
     },
     "execution_count": 11,
     "metadata": {},
     "output_type": "execute_result"
    }
   ],
   "source": [
    "# This example only specifies a relevant query\n",
    "retriever.get_relevant_documents(\"What are some movies about Nicholas Cage?\")"
   ]
  },
  {
   "cell_type": "code",
   "execution_count": null,
   "metadata": {},
   "outputs": [],
   "source": []
  }
 ],
 "metadata": {
  "kernelspec": {
   "display_name": "hw_milvus",
   "language": "python",
   "name": "python3"
  },
  "language_info": {
   "codemirror_mode": {
    "name": "ipython",
    "version": 3
   },
   "file_extension": ".py",
   "mimetype": "text/x-python",
   "name": "python",
   "nbconvert_exporter": "python",
   "pygments_lexer": "ipython3",
   "version": "3.10.11"
  },
  "orig_nbformat": 4
 },
 "nbformat": 4,
 "nbformat_minor": 2
}
