{
 "cells": [
  {
   "cell_type": "code",
   "execution_count": null,
   "metadata": {},
   "outputs": [],
   "source": [
    "! pip install -U milvus pymilvus llama-index accelerate"
   ]
  },
  {
   "cell_type": "code",
   "execution_count": 10,
   "metadata": {},
   "outputs": [],
   "source": [
    "from llama_index.llms import HuggingFaceLLM\n",
    "\n",
    "palmyra_small = HuggingFaceLLM(\n",
    "    context_window=1024,\n",
    "    max_new_tokens=256,\n",
    "    generate_kwargs={\"temperature\": 0.0, \"do_sample\": False},\n",
    "    tokenizer_name=\"Writer/palmyra-small\",\n",
    "    model_name=\"Writer/palmyra-small\",\n",
    "    device_map=\"auto\",\n",
    "    tokenizer_kwargs={\"max_length\": 1024},\n",
    "    # uncomment this if using CUDA to reduce memory usage\n",
    "    # have to import torch for usage\n",
    "    # model_kwargs={\"torch_dtype\": torch.float16}\n",
    ")"
   ]
  },
  {
   "cell_type": "code",
   "execution_count": 2,
   "metadata": {},
   "outputs": [],
   "source": [
    "from llama_index.query_engine import CitationQueryEngine\n",
    "from llama_index import (\n",
    "    VectorStoreIndex,\n",
    "    SimpleDirectoryReader,\n",
    "    StorageContext,\n",
    "    ServiceContext,\n",
    ")\n",
    "from llama_index.vector_stores import MilvusVectorStore\n",
    "\n",
    "from milvus import default_server"
   ]
  },
  {
   "cell_type": "code",
   "execution_count": 3,
   "metadata": {},
   "outputs": [
    {
     "name": "stderr",
     "output_type": "stream",
     "text": [
      "/Users/yujiantang/Documents/workspace/vids/vids/lib/python3.10/site-packages/torch/_utils.py:831: UserWarning: TypedStorage is deprecated. It will be removed in the future and UntypedStorage will be the only storage class. This should only matter to you if you are using storages directly.  To access UntypedStorage directly, use tensor.untyped_storage() instead of tensor.storage()\n",
      "  return self.fget.__get__(instance, owner)()\n"
     ]
    }
   ],
   "source": [
    "from llama_index.embeddings import HuggingFaceEmbedding\n",
    "\n",
    "embed_model = HuggingFaceEmbedding(model_name=\"sentence-transformers/all-MiniLM-L12-v2\")"
   ]
  },
  {
   "cell_type": "code",
   "execution_count": 4,
   "metadata": {},
   "outputs": [],
   "source": [
    "default_server.start()"
   ]
  },
  {
   "cell_type": "code",
   "execution_count": 5,
   "metadata": {},
   "outputs": [],
   "source": [
    "vector_store = MilvusVectorStore(\n",
    "    collection_name=\"palmyra_small_test\",\n",
    "    host=\"127.0.0.1\",\n",
    "    port=default_server.listen_port,\n",
    "    dim=384\n",
    ")"
   ]
  },
  {
   "cell_type": "code",
   "execution_count": 11,
   "metadata": {},
   "outputs": [],
   "source": [
    "service_context = ServiceContext.from_defaults(chunk_size=512, llm=palmyra_small, embed_model=embed_model)\n",
    "storage_context = StorageContext.from_defaults(vector_store=vector_store)"
   ]
  },
  {
   "cell_type": "code",
   "execution_count": 7,
   "metadata": {},
   "outputs": [],
   "source": [
    "documents = SimpleDirectoryReader(\"./data/\").load_data()"
   ]
  },
  {
   "cell_type": "code",
   "execution_count": 12,
   "metadata": {},
   "outputs": [],
   "source": [
    "index = VectorStoreIndex.from_documents(documents, \n",
    "                                        service_context=service_context, \n",
    "                                        storage_context=storage_context)"
   ]
  },
  {
   "cell_type": "code",
   "execution_count": 13,
   "metadata": {},
   "outputs": [],
   "source": [
    "query_engine = CitationQueryEngine.from_args(\n",
    "    index,\n",
    "    similarity_top_k=3,\n",
    "    # here we can control how granular citation sources are, the default is 512\n",
    "    citation_chunk_size=512,\n",
    ")"
   ]
  },
  {
   "cell_type": "code",
   "execution_count": 15,
   "metadata": {},
   "outputs": [
    {
     "name": "stderr",
     "output_type": "stream",
     "text": [
      "Setting `pad_token_id` to `eos_token_id`:50256 for open-end generation.\n",
      "Setting `pad_token_id` to `eos_token_id`:50256 for open-end generation.\n"
     ]
    },
    {
     "name": "stdout",
     "output_type": "stream",
     "text": [
      "Response(response='\\n'\n",
      "                  'Seattle is a city of the future.\\n'\n",
      "                  '\\n'\n",
      "                  '------\\n'\n",
      "                  'file_path: data/Seattle.txt\\n'\n",
      "                  '\\n'\n",
      "                  'Source 1:\\n'\n",
      "                  '== Further reading ==\\n'\n",
      "                  'Klingle, Matthew (2007). Emerald City: An Environmental '\n",
      "                  'History of Seattle. New Haven: Yale University Press. ISBN '\n",
      "                  '978-0-300-11641-0.\\n'\n",
      "                  'MacGibbon, Elma (1904). \"Seattle, the city of destiny\" '\n",
      "                  \"(DJVU). Leaves of knowledge. Washington State Library's \"\n",
      "                  'Classics in Washington History collection. Shaw & Borden. '\n",
      "                  'OCLC 61326250.\\n'\n",
      "                  'Pierce, J. Kingston (2003). Eccentric Seattle: Pillars and '\n",
      "                  'Pariahs Who Made the City Not Such a Boring Place After '\n",
      "                  'All. Pullman, Washington: Washington State University '\n",
      "                  'Press. ISBN 978-0-87422-269-2.\\n'\n",
      "                  'Sanders, Jeffrey Craig. Seattle and the Roots of Urban '\n",
      "                  'Sustainability: Inventing Ecotopia (University of '\n",
      "                  'Pittsburgh Press; 2010) 288 pages; the rise of '\n",
      "                  'environmental activism\\n'\n",
      "                  '\\n'\n",
      "                  '\\n'\n",
      "                  '== External links ==\\n'\n",
      "                  'Official website \\n'\n",
      "                  'Historylink.org, history of Seattle and Washington\\n'\n",
      "                  'Seattle Photographs from the University of Washington '\n",
      "                  'Digital Collections\\n'\n",
      "                  'Seattle Historic Photograph Collection from the '\n",
      "                  'SeattleBelow',\n",
      "         source_nodes=[NodeWithScore(node=TextNode(id_='41894b6b-f733-4a09-a1df-63303443854e', embedding=None, metadata={'file_path': 'data/Seattle.txt', 'file_name': 'Seattle.txt', 'file_type': 'text/plain', 'file_size': 65702, 'creation_date': '2023-10-24', 'last_modified_date': '2023-10-24', 'last_accessed_date': '2023-10-24'}, excluded_embed_metadata_keys=['file_name', 'file_type', 'file_size', 'creation_date', 'last_modified_date', 'last_accessed_date'], excluded_llm_metadata_keys=['file_name', 'file_type', 'file_size', 'creation_date', 'last_modified_date', 'last_accessed_date'], relationships={<NodeRelationship.SOURCE: '1'>: RelatedNodeInfo(node_id='09171d29-9f8c-4322-8fef-269e728d6b9c', node_type=<ObjectType.DOCUMENT: '4'>, metadata={'file_path': 'data/Seattle.txt', 'file_name': 'Seattle.txt', 'file_type': 'text/plain', 'file_size': 65702, 'creation_date': '2023-10-24', 'last_modified_date': '2023-10-24', 'last_accessed_date': '2023-10-24'}, hash='fffa6d4e9837307f66aca7ffc1ad341890cf203ebb91272d606ecf584474c803'), <NodeRelationship.PREVIOUS: '2'>: RelatedNodeInfo(node_id='daabdb83-56fd-407e-8301-6ce0d80177de', node_type=<ObjectType.TEXT: '1'>, metadata={'file_path': 'data/Seattle.txt', 'file_name': 'Seattle.txt', 'file_type': 'text/plain', 'file_size': 65702, 'creation_date': '2023-10-24', 'last_modified_date': '2023-10-24', 'last_accessed_date': '2023-10-24'}, hash='8c3cec76eb4fc30e346fa007c60de9e9126d6bedfe181bf993e75c89baf9cc97'), <NodeRelationship.NEXT: '3'>: RelatedNodeInfo(node_id='61f1b72c-0ec6-40b0-ae9b-eae91e98145c', node_type=<ObjectType.TEXT: '1'>, metadata={}, hash='758cb6cb3299278d2bedc7a0db1eaf587e48349a441046bf2e6d826d44fb12ca')}, text='Source 1:\\n== Further reading ==\\nKlingle, Matthew (2007). Emerald City: An Environmental History of Seattle. New Haven: Yale University Press. ISBN 978-0-300-11641-0.\\nMacGibbon, Elma (1904). \"Seattle, the city of destiny\" (DJVU). Leaves of knowledge. Washington State Library\\'s Classics in Washington History collection. Shaw & Borden. OCLC 61326250.\\nPierce, J. Kingston (2003). Eccentric Seattle: Pillars and Pariahs Who Made the City Not Such a Boring Place After All. Pullman, Washington: Washington State University Press. ISBN 978-0-87422-269-2.\\nSanders, Jeffrey Craig. Seattle and the Roots of Urban Sustainability: Inventing Ecotopia (University of Pittsburgh Press; 2010) 288 pages; the rise of environmental activism\\n\\n\\n== External links ==\\n\\nOfficial website \\nHistorylink.org, history of Seattle and Washington\\nSeattle Photographs from the University of Washington Digital Collections\\nSeattle Historic Photograph Collection from the Seattle Public Library Archived October 23, 2013, at the Wayback Machine\\nSeattle Civil Rights and Labor History Project\\nSeattle, a National Park Service Discover Our Shared Heritage Travel Itinerary\\n', start_char_idx=64494, end_char_idx=65622, text_template='{metadata_str}\\n\\n{content}', metadata_template='{key}: {value}', metadata_seperator='\\n'), score=0.85787034034729),\n",
      "                       NodeWithScore(node=TextNode(id_='47cacb52-f78b-4a4a-97e8-d44a135a05a7', embedding=None, metadata={'file_path': 'data/Seattle.txt', 'file_name': 'Seattle.txt', 'file_type': 'text/plain', 'file_size': 65702, 'creation_date': '2023-10-24', 'last_modified_date': '2023-10-24', 'last_accessed_date': '2023-10-24'}, excluded_embed_metadata_keys=['file_name', 'file_type', 'file_size', 'creation_date', 'last_modified_date', 'last_accessed_date'], excluded_llm_metadata_keys=['file_name', 'file_type', 'file_size', 'creation_date', 'last_modified_date', 'last_accessed_date'], relationships={<NodeRelationship.SOURCE: '1'>: RelatedNodeInfo(node_id='09171d29-9f8c-4322-8fef-269e728d6b9c', node_type=<ObjectType.DOCUMENT: '4'>, metadata={'file_path': 'data/Seattle.txt', 'file_name': 'Seattle.txt', 'file_type': 'text/plain', 'file_size': 65702, 'creation_date': '2023-10-24', 'last_modified_date': '2023-10-24', 'last_accessed_date': '2023-10-24'}, hash='fffa6d4e9837307f66aca7ffc1ad341890cf203ebb91272d606ecf584474c803'), <NodeRelationship.PREVIOUS: '2'>: RelatedNodeInfo(node_id='ad80c39a-a998-40ac-89a5-07e7bfe1e343', node_type=<ObjectType.TEXT: '1'>, metadata={'file_path': 'data/Seattle.txt', 'file_name': 'Seattle.txt', 'file_type': 'text/plain', 'file_size': 65702, 'creation_date': '2023-10-24', 'last_modified_date': '2023-10-24', 'last_accessed_date': '2023-10-24'}, hash='92b094ac2f366e00615628377862a68c06dcbf599a87944326857294e3388853'), <NodeRelationship.NEXT: '3'>: RelatedNodeInfo(node_id='466a5422-40d4-49d5-a96d-a58829e48cbc', node_type=<ObjectType.TEXT: '1'>, metadata={}, hash='a3cf40dc685404d2510298de3759cec5314ba79c17a18c37c70b9106332dc314')}, text='Source 2:\\nIn 1855, nominal land settlements were established. On January 14, 1865, the Legislature of Territorial Washington incorporated the Town of Seattle with a board of trustees managing the city. The Town of Seattle was disincorporated on January 18, 1867, and remained a mere precinct of King County until late 1869, when a new petition was filed and the city was re-incorporated December 2, 1869, with a mayor–council government. The corporate seal of the City of Seattle carries the date \"1869\" and a likeness of Chief Seattle in left profile. That same year, Seattle acquired the epithet of the \"Queen City\", a designation officially changed in 1982 to \"Emerald City\".\\n\\n\\n=== Timber town ===\\nSeattle has a history of boom-and-bust cycles, like many other cities near areas of extensive natural and mineral resources. Seattle has risen several times economically, then gone into precipitous decline, but it has typically used those periods to rebuild solid infrastructure.The first such boom, covering the early years of the city, rode on the lumber industry. During this period the road now known as Yesler Way won the nickname \"Skid Road\", supposedly after the timber skidding down the hill to Henry Yesler\\'s sawmill. The later dereliction of the area may be a possible origin for the term which later entered the wider American lexicon as Skid Row. Like much of the American West, Seattle saw numerous conflicts between labor and management, as well as ethnic tensions that culminated in the anti-Chinese riots of 1885–1886. This violence originated with unemployed whites who were determined to drive the Chinese from Seattle (anti-Chinese riots also occurred in Tacoma). In 1900, Asians were 4.2% of the population. Authorities declared martial law and federal troops arrived to put down the disorder.\\nSeattle had achieved sufficient economic success that when the Great Seattle Fire of 1889 destroyed the central business district, a far grander city-center rapidly emerged in its place. Finance company Washington Mutual, for example, was founded in the immediate wake of the fire. However, the Panic of 1893 hit Seattle hard.\\n\\n\\n=== Gold Rush, World War I, and the Great Depression ===\\nThe second and most dramatic boom resulted from the Klondike Gold Rush, which ended the depression that had begun with the Panic of 1893.\\n', start_char_idx=5252, end_char_idx=7580, text_template='{metadata_str}\\n\\n{content}', metadata_template='{key}: {value}', metadata_seperator='\\n'), score=0.8297780156135559)],\n",
      "         metadata={'41894b6b-f733-4a09-a1df-63303443854e': {'creation_date': '2023-10-24',\n",
      "                                                            'file_name': 'Seattle.txt',\n",
      "                                                            'file_path': 'data/Seattle.txt',\n",
      "                                                            'file_size': 65702,\n",
      "                                                            'file_type': 'text/plain',\n",
      "                                                            'last_accessed_date': '2023-10-24',\n",
      "                                                            'last_modified_date': '2023-10-24'},\n",
      "                   '47cacb52-f78b-4a4a-97e8-d44a135a05a7': {'creation_date': '2023-10-24',\n",
      "                                                            'file_name': 'Seattle.txt',\n",
      "                                                            'file_path': 'data/Seattle.txt',\n",
      "                                                            'file_size': 65702,\n",
      "                                                            'file_type': 'text/plain',\n",
      "                                                            'last_accessed_date': '2023-10-24',\n",
      "                                                            'last_modified_date': '2023-10-24'}})\n"
     ]
    }
   ],
   "source": [
    "response = query_engine.query(\"Tell me about the city of Seattle.\")\n",
    "import pprint\n",
    "pprint.pprint(response)"
   ]
  },
  {
   "cell_type": "code",
   "execution_count": null,
   "metadata": {},
   "outputs": [],
   "source": []
  }
 ],
 "metadata": {
  "kernelspec": {
   "display_name": "vids",
   "language": "python",
   "name": "python3"
  },
  "language_info": {
   "codemirror_mode": {
    "name": "ipython",
    "version": 3
   },
   "file_extension": ".py",
   "mimetype": "text/x-python",
   "name": "python",
   "nbconvert_exporter": "python",
   "pygments_lexer": "ipython3",
   "version": "3.10.11"
  }
 },
 "nbformat": 4,
 "nbformat_minor": 2
}
