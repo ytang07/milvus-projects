{
 "cells": [
  {
   "cell_type": "markdown",
   "metadata": {},
   "source": [
    "# Starting Milvus Lite"
   ]
  },
  {
   "cell_type": "code",
   "execution_count": 1,
   "metadata": {},
   "outputs": [
    {
     "name": "stdout",
     "output_type": "stream",
     "text": [
      "Requirement already satisfied: milvus in /Users/yujiantang/Documents/workspace/hello_world_project/hw_milvus/lib/python3.10/site-packages (2.3.3)\n",
      "Requirement already satisfied: pymilvus in /Users/yujiantang/Documents/workspace/hello_world_project/hw_milvus/lib/python3.10/site-packages (2.3.1)\n",
      "Requirement already satisfied: grpcio<=1.58.0,>=1.49.1 in /Users/yujiantang/Documents/workspace/hello_world_project/hw_milvus/lib/python3.10/site-packages (from pymilvus) (1.53.0)\n",
      "Requirement already satisfied: protobuf>=3.20.0 in /Users/yujiantang/Documents/workspace/hello_world_project/hw_milvus/lib/python3.10/site-packages (from pymilvus) (4.22.3)\n",
      "Requirement already satisfied: environs<=9.5.0 in /Users/yujiantang/Documents/workspace/hello_world_project/hw_milvus/lib/python3.10/site-packages (from pymilvus) (9.5.0)\n",
      "Requirement already satisfied: ujson>=2.0.0 in /Users/yujiantang/Documents/workspace/hello_world_project/hw_milvus/lib/python3.10/site-packages (from pymilvus) (5.7.0)\n",
      "Requirement already satisfied: pandas>=1.2.4 in /Users/yujiantang/Documents/workspace/hello_world_project/hw_milvus/lib/python3.10/site-packages (from pymilvus) (2.0.0)\n",
      "Requirement already satisfied: requests in /Users/yujiantang/Documents/workspace/hello_world_project/hw_milvus/lib/python3.10/site-packages (from pymilvus) (2.28.2)\n",
      "Requirement already satisfied: minio in /Users/yujiantang/Documents/workspace/hello_world_project/hw_milvus/lib/python3.10/site-packages (from pymilvus) (7.1.17)\n",
      "Requirement already satisfied: marshmallow>=3.0.0 in /Users/yujiantang/Documents/workspace/hello_world_project/hw_milvus/lib/python3.10/site-packages (from environs<=9.5.0->pymilvus) (3.19.0)\n",
      "Requirement already satisfied: python-dotenv in /Users/yujiantang/Documents/workspace/hello_world_project/hw_milvus/lib/python3.10/site-packages (from environs<=9.5.0->pymilvus) (1.0.0)\n",
      "Requirement already satisfied: python-dateutil>=2.8.2 in /Users/yujiantang/Documents/workspace/hello_world_project/hw_milvus/lib/python3.10/site-packages (from pandas>=1.2.4->pymilvus) (2.8.2)\n",
      "Requirement already satisfied: pytz>=2020.1 in /Users/yujiantang/Documents/workspace/hello_world_project/hw_milvus/lib/python3.10/site-packages (from pandas>=1.2.4->pymilvus) (2023.3)\n",
      "Requirement already satisfied: tzdata>=2022.1 in /Users/yujiantang/Documents/workspace/hello_world_project/hw_milvus/lib/python3.10/site-packages (from pandas>=1.2.4->pymilvus) (2023.3)\n",
      "Requirement already satisfied: numpy>=1.21.0 in /Users/yujiantang/Documents/workspace/hello_world_project/hw_milvus/lib/python3.10/site-packages (from pandas>=1.2.4->pymilvus) (1.24.2)\n",
      "Requirement already satisfied: certifi in /Users/yujiantang/Documents/workspace/hello_world_project/hw_milvus/lib/python3.10/site-packages (from minio->pymilvus) (2022.12.7)\n",
      "Requirement already satisfied: urllib3 in /Users/yujiantang/Documents/workspace/hello_world_project/hw_milvus/lib/python3.10/site-packages (from minio->pymilvus) (1.26.15)\n",
      "Requirement already satisfied: charset-normalizer<4,>=2 in /Users/yujiantang/Documents/workspace/hello_world_project/hw_milvus/lib/python3.10/site-packages (from requests->pymilvus) (3.1.0)\n",
      "Requirement already satisfied: idna<4,>=2.5 in /Users/yujiantang/Documents/workspace/hello_world_project/hw_milvus/lib/python3.10/site-packages (from requests->pymilvus) (3.4)\n",
      "Requirement already satisfied: packaging>=17.0 in /Users/yujiantang/Documents/workspace/hello_world_project/hw_milvus/lib/python3.10/site-packages (from marshmallow>=3.0.0->environs<=9.5.0->pymilvus) (23.1)\n",
      "Requirement already satisfied: six>=1.5 in /Users/yujiantang/Documents/workspace/hello_world_project/hw_milvus/lib/python3.10/site-packages (from python-dateutil>=2.8.2->pandas>=1.2.4->pymilvus) (1.16.0)\n",
      "\n",
      "\u001b[1m[\u001b[0m\u001b[34;49mnotice\u001b[0m\u001b[1;39;49m]\u001b[0m\u001b[39;49m A new release of pip is available: \u001b[0m\u001b[31;49m23.3.2\u001b[0m\u001b[39;49m -> \u001b[0m\u001b[32;49m24.0\u001b[0m\n",
      "\u001b[1m[\u001b[0m\u001b[34;49mnotice\u001b[0m\u001b[1;39;49m]\u001b[0m\u001b[39;49m To update, run: \u001b[0m\u001b[32;49mpip install --upgrade pip\u001b[0m\n"
     ]
    }
   ],
   "source": [
    "! pip install milvus pymilvus"
   ]
  },
  {
   "cell_type": "code",
   "execution_count": 2,
   "metadata": {},
   "outputs": [],
   "source": [
    "from milvus import default_server"
   ]
  },
  {
   "cell_type": "code",
   "execution_count": 3,
   "metadata": {},
   "outputs": [],
   "source": [
    "default_server.start()"
   ]
  },
  {
   "cell_type": "markdown",
   "metadata": {},
   "source": [
    "# Preparing a Milvus Collection"
   ]
  },
  {
   "cell_type": "code",
   "execution_count": 4,
   "metadata": {},
   "outputs": [],
   "source": [
    "from pymilvus import connections\n",
    "\n",
    "# connect to milvus just like any other server\n",
    "connections.connect(\n",
    "  host=\"127.0.0.1\", \n",
    "  port = default_server.listen_port)"
   ]
  },
  {
   "cell_type": "code",
   "execution_count": 5,
   "metadata": {},
   "outputs": [],
   "source": [
    "from pymilvus import FieldSchema, CollectionSchema, DataType\n",
    "\n",
    "# number of dimensions in your embedding model, in the case of \n",
    "# sentence-transformers/all-MiniLM-L12-v2, that's 384\n",
    "DIMENSION = 384\n",
    "\n",
    "# object should be inserted in the format of (title, date, location, speech embedding)\n",
    "fields = [\n",
    "    FieldSchema(name=\"id\", dtype=DataType.INT64, is_primary=True, auto_id=True),\n",
    "    FieldSchema(name=\"embedding\", dtype=DataType.FLOAT_VECTOR, dim=DIMENSION)\n",
    "]\n",
    "schema = CollectionSchema(fields=fields, enable_dynamic_field=True)"
   ]
  },
  {
   "cell_type": "code",
   "execution_count": 6,
   "metadata": {},
   "outputs": [],
   "source": [
    "from pymilvus import Collection\n",
    "\n",
    "# define the collection name and pass the schema\n",
    "collection = Collection(name=\"example_name\", schema=schema)"
   ]
  },
  {
   "cell_type": "code",
   "execution_count": 7,
   "metadata": {},
   "outputs": [],
   "source": [
    "index_params = {\n",
    "    \"index_type\": \"IVF_FLAT\", # one of 11 Milvus indexes, IVF is the most intuitive\n",
    "    \"metric_type\": \"L2\", # L2, Cosine, or IP\n",
    "    \"params\": {\"nlist\": 4}, # how many \"centroids\" do you want for IVF?\n",
    "}"
   ]
  },
  {
   "cell_type": "code",
   "execution_count": 8,
   "metadata": {},
   "outputs": [],
   "source": [
    "# pass the field to index on and the parameters to index with\n",
    "collection.create_index(field_name=\"embedding\", index_params=index_params)\n",
    "# load the collection into memory\n",
    "collection.load()"
   ]
  },
  {
   "cell_type": "markdown",
   "metadata": {},
   "source": [
    "# Adding Data to Milvus"
   ]
  },
  {
   "cell_type": "code",
   "execution_count": 9,
   "metadata": {},
   "outputs": [],
   "source": [
    "from sentence_transformers import SentenceTransformer\n",
    "\n",
    "# a popular 384 dimension vector embedding model\n",
    "transformer = SentenceTransformer('all-MiniLM-L12-v2')"
   ]
  },
  {
   "cell_type": "code",
   "execution_count": 16,
   "metadata": {},
   "outputs": [],
   "source": [
    "with open(\"./Seattle.txt\", \"r\") as f:\n",
    "    x = f.read() # read the entire file in as a string\n",
    "\n",
    "# split on the number of sentences for simplicity\n",
    "sentences = x.split(\".\")"
   ]
  },
  {
   "cell_type": "code",
   "execution_count": null,
   "metadata": {},
   "outputs": [],
   "source": []
  }
 ],
 "metadata": {
  "kernelspec": {
   "display_name": "hw_milvus",
   "language": "python",
   "name": "python3"
  },
  "language_info": {
   "codemirror_mode": {
    "name": "ipython",
    "version": 3
   },
   "file_extension": ".py",
   "mimetype": "text/x-python",
   "name": "python",
   "nbconvert_exporter": "python",
   "pygments_lexer": "ipython3",
   "version": "3.10.11"
  }
 },
 "nbformat": 4,
 "nbformat_minor": 2
}
