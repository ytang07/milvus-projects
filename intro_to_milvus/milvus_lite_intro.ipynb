{
 "cells": [
  {
   "cell_type": "markdown",
   "metadata": {},
   "source": [
    "# Starting Milvus Lite"
   ]
  },
  {
   "cell_type": "code",
   "execution_count": 1,
   "metadata": {},
   "outputs": [
    {
     "name": "stdout",
     "output_type": "stream",
     "text": [
      "Requirement already satisfied: milvus in /Users/yujiantang/Documents/workspace/hello_world_project/hw_milvus/lib/python3.10/site-packages (2.3.3)\n",
      "Requirement already satisfied: pymilvus in /Users/yujiantang/Documents/workspace/hello_world_project/hw_milvus/lib/python3.10/site-packages (2.3.1)\n",
      "Requirement already satisfied: grpcio<=1.58.0,>=1.49.1 in /Users/yujiantang/Documents/workspace/hello_world_project/hw_milvus/lib/python3.10/site-packages (from pymilvus) (1.53.0)\n",
      "Requirement already satisfied: protobuf>=3.20.0 in /Users/yujiantang/Documents/workspace/hello_world_project/hw_milvus/lib/python3.10/site-packages (from pymilvus) (4.22.3)\n",
      "Requirement already satisfied: environs<=9.5.0 in /Users/yujiantang/Documents/workspace/hello_world_project/hw_milvus/lib/python3.10/site-packages (from pymilvus) (9.5.0)\n",
      "Requirement already satisfied: ujson>=2.0.0 in /Users/yujiantang/Documents/workspace/hello_world_project/hw_milvus/lib/python3.10/site-packages (from pymilvus) (5.7.0)\n",
      "Requirement already satisfied: pandas>=1.2.4 in /Users/yujiantang/Documents/workspace/hello_world_project/hw_milvus/lib/python3.10/site-packages (from pymilvus) (2.0.0)\n",
      "Requirement already satisfied: requests in /Users/yujiantang/Documents/workspace/hello_world_project/hw_milvus/lib/python3.10/site-packages (from pymilvus) (2.28.2)\n",
      "Requirement already satisfied: minio in /Users/yujiantang/Documents/workspace/hello_world_project/hw_milvus/lib/python3.10/site-packages (from pymilvus) (7.1.17)\n",
      "Requirement already satisfied: marshmallow>=3.0.0 in /Users/yujiantang/Documents/workspace/hello_world_project/hw_milvus/lib/python3.10/site-packages (from environs<=9.5.0->pymilvus) (3.19.0)\n",
      "Requirement already satisfied: python-dotenv in /Users/yujiantang/Documents/workspace/hello_world_project/hw_milvus/lib/python3.10/site-packages (from environs<=9.5.0->pymilvus) (1.0.0)\n",
      "Requirement already satisfied: python-dateutil>=2.8.2 in /Users/yujiantang/Documents/workspace/hello_world_project/hw_milvus/lib/python3.10/site-packages (from pandas>=1.2.4->pymilvus) (2.8.2)\n",
      "Requirement already satisfied: pytz>=2020.1 in /Users/yujiantang/Documents/workspace/hello_world_project/hw_milvus/lib/python3.10/site-packages (from pandas>=1.2.4->pymilvus) (2023.3)\n",
      "Requirement already satisfied: tzdata>=2022.1 in /Users/yujiantang/Documents/workspace/hello_world_project/hw_milvus/lib/python3.10/site-packages (from pandas>=1.2.4->pymilvus) (2023.3)\n",
      "Requirement already satisfied: numpy>=1.21.0 in /Users/yujiantang/Documents/workspace/hello_world_project/hw_milvus/lib/python3.10/site-packages (from pandas>=1.2.4->pymilvus) (1.24.2)\n",
      "Requirement already satisfied: certifi in /Users/yujiantang/Documents/workspace/hello_world_project/hw_milvus/lib/python3.10/site-packages (from minio->pymilvus) (2022.12.7)\n",
      "Requirement already satisfied: urllib3 in /Users/yujiantang/Documents/workspace/hello_world_project/hw_milvus/lib/python3.10/site-packages (from minio->pymilvus) (1.26.15)\n",
      "Requirement already satisfied: charset-normalizer<4,>=2 in /Users/yujiantang/Documents/workspace/hello_world_project/hw_milvus/lib/python3.10/site-packages (from requests->pymilvus) (3.1.0)\n",
      "Requirement already satisfied: idna<4,>=2.5 in /Users/yujiantang/Documents/workspace/hello_world_project/hw_milvus/lib/python3.10/site-packages (from requests->pymilvus) (3.4)\n",
      "Requirement already satisfied: packaging>=17.0 in /Users/yujiantang/Documents/workspace/hello_world_project/hw_milvus/lib/python3.10/site-packages (from marshmallow>=3.0.0->environs<=9.5.0->pymilvus) (23.1)\n",
      "Requirement already satisfied: six>=1.5 in /Users/yujiantang/Documents/workspace/hello_world_project/hw_milvus/lib/python3.10/site-packages (from python-dateutil>=2.8.2->pandas>=1.2.4->pymilvus) (1.16.0)\n"
     ]
    }
   ],
   "source": [
    "! pip install milvus pymilvus sentence-transformer"
   ]
  },
  {
   "cell_type": "code",
   "execution_count": 2,
   "metadata": {},
   "outputs": [],
   "source": [
    "from milvus import default_server"
   ]
  },
  {
   "cell_type": "code",
   "execution_count": 3,
   "metadata": {},
   "outputs": [],
   "source": [
    "default_server.start()"
   ]
  },
  {
   "cell_type": "code",
   "execution_count": 4,
   "metadata": {},
   "outputs": [],
   "source": [
    "from pymilvus import connections\n",
    "\n",
    "# connect to milvus just like any other server\n",
    "connections.connect(\n",
    "  host=\"127.0.0.1\", \n",
    "  port=default_server.listen_port)"
   ]
  },
  {
   "cell_type": "markdown",
   "metadata": {},
   "source": [
    "# Preparing a Milvus Collection"
   ]
  },
  {
   "cell_type": "code",
   "execution_count": 5,
   "metadata": {},
   "outputs": [],
   "source": [
    "from pymilvus import FieldSchema, CollectionSchema, DataType\n",
    "\n",
    "# number of dimensions in your embedding model, in the case of \n",
    "# sentence-transformers/all-MiniLM-L12-v2, that's 384\n",
    "DIMENSION = 384\n",
    "\n",
    "# id and embedding are required to define\n",
    "fields = [\n",
    "    FieldSchema(name=\"id\", dtype=DataType.INT64, is_primary=True, auto_id=True),\n",
    "    FieldSchema(name=\"embedding\", dtype=DataType.FLOAT_VECTOR, dim=DIMENSION)\n",
    "]\n",
    "# \"enable_dynamic_field\" lets us insert data with any metadata fields\n",
    "schema = CollectionSchema(fields=fields, enable_dynamic_field=True)"
   ]
  },
  {
   "cell_type": "code",
   "execution_count": 6,
   "metadata": {},
   "outputs": [],
   "source": [
    "from pymilvus import Collection\n",
    "\n",
    "# define the collection name and pass the schema\n",
    "collection = Collection(name=\"example_name\", schema=schema)"
   ]
  },
  {
   "cell_type": "code",
   "execution_count": 7,
   "metadata": {},
   "outputs": [],
   "source": [
    "index_params = {\n",
    "    \"index_type\": \"IVF_FLAT\", # one of 11 Milvus indexes, IVF is the most intuitive\n",
    "    \"metric_type\": \"L2\", # L2, Cosine, or IP\n",
    "    \"params\": {\"nlist\": 4}, # how many \"centroids\" do you want for IVF?\n",
    "}"
   ]
  },
  {
   "cell_type": "code",
   "execution_count": 8,
   "metadata": {},
   "outputs": [],
   "source": [
    "# pass the field to index on and the parameters to index with\n",
    "collection.create_index(field_name=\"embedding\", index_params=index_params)\n",
    "# load the collection into memory\n",
    "collection.load()"
   ]
  },
  {
   "cell_type": "markdown",
   "metadata": {},
   "source": [
    "# Adding Data to Milvus"
   ]
  },
  {
   "cell_type": "code",
   "execution_count": 9,
   "metadata": {},
   "outputs": [],
   "source": [
    "from sentence_transformers import SentenceTransformer\n",
    "\n",
    "# a popular 384 dimension vector embedding model\n",
    "transformer = SentenceTransformer('all-MiniLM-L12-v2')"
   ]
  },
  {
   "cell_type": "code",
   "execution_count": 10,
   "metadata": {},
   "outputs": [],
   "source": [
    "# available at \n",
    "with open(\"./Seattle.txt\", \"r\") as f:\n",
    "    x = f.read() # read the entire file in as a string\n",
    "\n",
    "# split on the number of sentences for simplicity\n",
    "sentences = x.split(\".\")"
   ]
  },
  {
   "cell_type": "code",
   "execution_count": 11,
   "metadata": {},
   "outputs": [],
   "source": [
    "# hold embeddings and sentences together\n",
    "milvus_input = []\n",
    "for sentence in sentences:\n",
    "    entry = {}\n",
    "    vector_embedding = transformer.encode(sentence)\n",
    "    entry[\"embedding\"] = vector_embedding\n",
    "    entry[\"sentence\"] = sentence\n",
    "    milvus_input.append(entry)"
   ]
  },
  {
   "cell_type": "code",
   "execution_count": 12,
   "metadata": {},
   "outputs": [
    {
     "data": {
      "text/plain": [
       "(insert count: 568, delete count: 0, upsert count: 0, timestamp: 447595179724767234, success count: 568, err count: 0)"
      ]
     },
     "execution_count": 12,
     "metadata": {},
     "output_type": "execute_result"
    }
   ],
   "source": [
    "# milvus expects a list of dicts \n",
    "collection.insert(milvus_input)"
   ]
  },
  {
   "cell_type": "code",
   "execution_count": 13,
   "metadata": {},
   "outputs": [],
   "source": [
    "collection.flush()"
   ]
  },
  {
   "cell_type": "markdown",
   "metadata": {},
   "source": [
    "# Reading Data from Milvus"
   ]
  },
  {
   "cell_type": "code",
   "execution_count": 15,
   "metadata": {},
   "outputs": [],
   "source": [
    "query = \"the tallest point in Seattle\"\n",
    "q_embedding = transformer.encode(query)"
   ]
  },
  {
   "cell_type": "code",
   "execution_count": 16,
   "metadata": {},
   "outputs": [],
   "source": [
    "res = collection.search(\n",
    "    data=[q_embedding],  # Embeded search value\n",
    "    anns_field=\"embedding\",  # Search across embeddings\n",
    "    param={\"metric_type\": \"L2\",\n",
    "            \"params\": {\"nprobe\": 2}},\n",
    "    limit = 3,  # Limit to top_k results per search\n",
    "    output_fields=[\"sentence\"]  # Include title field in result\n",
    ")"
   ]
  },
  {
   "cell_type": "code",
   "execution_count": 17,
   "metadata": {},
   "outputs": [
    {
     "name": "stdout",
     "output_type": "stream",
     "text": [
      " The highest point within city limits is at High Point in West Seattle, which is roughly located near 35th Ave SW and SW Myrtle St\n",
      "447594821656779660\n",
      "2 km2) Discovery Park (the largest park in the city) in Magnolia, along the shores of Myrtle Edwards Park on the Downtown waterfront, along the shoreline of Lake Washington at Seward Park, along Alki Beach in West Seattle, or along the Burke-Gilman Trail\n",
      "447594821656779901\n",
      " Seattle\n",
      "447594821656780045\n"
     ]
    }
   ],
   "source": [
    "for i, hits in enumerate(res):\n",
    "    for hit in hits:\n",
    "        print(hit.entity.get(\"sentence\"))\n",
    "        print(hit.entity.id)"
   ]
  },
  {
   "cell_type": "markdown",
   "metadata": {},
   "source": [
    "# Deleting Data from Milvus"
   ]
  },
  {
   "cell_type": "code",
   "execution_count": 18,
   "metadata": {},
   "outputs": [],
   "source": [
    "expr = \"id == 447594821656779660\""
   ]
  },
  {
   "cell_type": "code",
   "execution_count": 19,
   "metadata": {},
   "outputs": [
    {
     "data": {
      "text/plain": [
       "(insert count: 0, delete count: 1, upsert count: 0, timestamp: 447595296299417601, success count: 0, err count: 0)"
      ]
     },
     "execution_count": 19,
     "metadata": {},
     "output_type": "execute_result"
    }
   ],
   "source": [
    "collection.delete(expr)"
   ]
  },
  {
   "cell_type": "code",
   "execution_count": 20,
   "metadata": {},
   "outputs": [],
   "source": [
    "res_after_del = collection.search(\n",
    "    data=[q_embedding],  # Embeded search value\n",
    "    anns_field=\"embedding\",  # Search across embeddings\n",
    "    param={\"metric_type\": \"L2\",\n",
    "            \"params\": {\"nprobe\": 2}},\n",
    "    limit = 3,  # Limit to top_k results per search\n",
    "    output_fields=[\"sentence\"]  # Include title field in result\n",
    ")"
   ]
  },
  {
   "cell_type": "code",
   "execution_count": 21,
   "metadata": {},
   "outputs": [
    {
     "name": "stdout",
     "output_type": "stream",
     "text": [
      "2 km2) Discovery Park (the largest park in the city) in Magnolia, along the shores of Myrtle Edwards Park on the Downtown waterfront, along the shoreline of Lake Washington at Seward Park, along Alki Beach in West Seattle, or along the Burke-Gilman Trail\n",
      "447594821656779901\n",
      " Seattle\n",
      "447594821656780045\n",
      "Seattle is situated on an isthmus between Puget Sound (an inlet of the Pacific Ocean) and Lake Washington\n",
      "447594821656779533\n"
     ]
    }
   ],
   "source": [
    "for i, hits in enumerate(res_after_del):\n",
    "    for hit in hits:\n",
    "        print(hit.entity.get(\"sentence\"))\n",
    "        print(hit.entity.id)\n",
    "        "
   ]
  },
  {
   "cell_type": "markdown",
   "metadata": {},
   "source": [
    "# Utilities"
   ]
  },
  {
   "cell_type": "code",
   "execution_count": 22,
   "metadata": {},
   "outputs": [],
   "source": [
    "from pymilvus import utility"
   ]
  },
  {
   "cell_type": "code",
   "execution_count": 23,
   "metadata": {},
   "outputs": [
    {
     "data": {
      "text/plain": [
       "False"
      ]
     },
     "execution_count": 23,
     "metadata": {},
     "output_type": "execute_result"
    }
   ],
   "source": [
    "utility.has_collection(\"collection_name\")"
   ]
  },
  {
   "cell_type": "code",
   "execution_count": 24,
   "metadata": {},
   "outputs": [
    {
     "data": {
      "text/plain": [
       "['example_name']"
      ]
     },
     "execution_count": 24,
     "metadata": {},
     "output_type": "execute_result"
    }
   ],
   "source": [
    "utility.list_collections()"
   ]
  },
  {
   "cell_type": "code",
   "execution_count": 25,
   "metadata": {},
   "outputs": [],
   "source": [
    "utility.drop_collection('example_name')"
   ]
  },
  {
   "cell_type": "code",
   "execution_count": 26,
   "metadata": {},
   "outputs": [
    {
     "data": {
      "text/plain": [
       "[]"
      ]
     },
     "execution_count": 26,
     "metadata": {},
     "output_type": "execute_result"
    }
   ],
   "source": [
    "utility.list_collections()"
   ]
  },
  {
   "cell_type": "code",
   "execution_count": 27,
   "metadata": {},
   "outputs": [],
   "source": [
    "default_server.stop()\n",
    "default_server.cleanup()"
   ]
  },
  {
   "cell_type": "code",
   "execution_count": null,
   "metadata": {},
   "outputs": [],
   "source": []
  }
 ],
 "metadata": {
  "kernelspec": {
   "display_name": "hw_milvus",
   "language": "python",
   "name": "python3"
  },
  "language_info": {
   "codemirror_mode": {
    "name": "ipython",
    "version": 3
   },
   "file_extension": ".py",
   "mimetype": "text/x-python",
   "name": "python",
   "nbconvert_exporter": "python",
   "pygments_lexer": "ipython3",
   "version": "3.12.1"
  }
 },
 "nbformat": 4,
 "nbformat_minor": 2
}
